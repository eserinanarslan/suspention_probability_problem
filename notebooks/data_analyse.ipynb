{
 "cells": [
  {
   "cell_type": "code",
   "execution_count": null,
   "id": "eb532af9-97dd-44f0-a75f-cacddbaaa1b4",
   "metadata": {},
   "outputs": [],
   "source": []
  },
  {
   "cell_type": "code",
   "execution_count": 1,
   "id": "5e0101d5-44ea-4ac3-8d20-a9e6268ccab2",
   "metadata": {},
   "outputs": [],
   "source": [
    "import pandas as pd\n",
    "import numpy as np"
   ]
  },
  {
   "cell_type": "code",
   "execution_count": 33,
   "id": "5947d0e6-6e61-4c1d-a60f-b541cb2e97e9",
   "metadata": {},
   "outputs": [
    {
     "name": "stdout",
     "output_type": "stream",
     "text": [
      "File read successfully!\n",
      "(500, 16)\n"
     ]
    }
   ],
   "source": [
    "# Read data from datasource\n",
    "def read_csv_file(file_path):\n",
    "    try:\n",
    "        # Attempt to read the CSV file\n",
    "        data = pd.read_csv(file_path)\n",
    "        print(\"File read successfully!\")\n",
    "        return data\n",
    "    except FileNotFoundError:\n",
    "        print(f\"Error: The file '{file_path}' was not found.\")\n",
    "    except pd.errors.EmptyDataError:\n",
    "        print(\"Error: The file is empty.\")\n",
    "    except pd.errors.ParserError:\n",
    "        print(\"Error: The file contains parsing errors.\")\n",
    "    except Exception as e:\n",
    "        print(f\"An unexpected error occurred: {e}\")\n",
    "\n",
    "# Call read data func\n",
    "file_path = '../data/HomeTask_ [1] User Information Labelled.csv'\n",
    "labelled_user_info_df = read_csv_file(file_path)\n",
    "\n",
    "if labelled_user_info_df is not None:\n",
    "    print(labelled_user_info_df.shape)  # Display the first few rows if data was successfully loaded\n"
   ]
  },
  {
   "cell_type": "code",
   "execution_count": 3,
   "id": "38d4c2a8-aba0-4483-b492-5b9bb97d07a8",
   "metadata": {},
   "outputs": [
    {
     "name": "stdout",
     "output_type": "stream",
     "text": [
      "(455, 16)\n"
     ]
    }
   ],
   "source": [
    "# Drop duplicate rows from 'labelled_user_info_df'\n",
    "labelled_user_info_df = labelled_user_info_df.drop_duplicates()\n",
    "print(labelled_user_info_df.shape)"
   ]
  },
  {
   "cell_type": "code",
   "execution_count": 4,
   "id": "ab4611c4-7487-441c-a842-b49648e2210e",
   "metadata": {},
   "outputs": [
    {
     "data": {
      "text/html": [
       "<div>\n",
       "<style scoped>\n",
       "    .dataframe tbody tr th:only-of-type {\n",
       "        vertical-align: middle;\n",
       "    }\n",
       "\n",
       "    .dataframe tbody tr th {\n",
       "        vertical-align: top;\n",
       "    }\n",
       "\n",
       "    .dataframe thead th {\n",
       "        text-align: right;\n",
       "    }\n",
       "</style>\n",
       "<table border=\"1\" class=\"dataframe\">\n",
       "  <thead>\n",
       "    <tr style=\"text-align: right;\">\n",
       "      <th></th>\n",
       "      <th>user_id</th>\n",
       "      <th>session_id</th>\n",
       "      <th>country_of_residence</th>\n",
       "      <th>has_biometrics</th>\n",
       "      <th>phone_number_country_code</th>\n",
       "      <th>reason_to_use_app</th>\n",
       "      <th>occupation</th>\n",
       "      <th>kyc_state</th>\n",
       "      <th>gender</th>\n",
       "      <th>date_of_birth</th>\n",
       "      <th>document_issuing_country</th>\n",
       "      <th>locale</th>\n",
       "      <th>screening_state</th>\n",
       "      <th>is_adverse_media_minor</th>\n",
       "      <th>is_pep</th>\n",
       "      <th>user_current_state</th>\n",
       "    </tr>\n",
       "  </thead>\n",
       "  <tbody>\n",
       "    <tr>\n",
       "      <th>0</th>\n",
       "      <td>00404b94-5c1b-47b0-9486-27ddda96ba52</td>\n",
       "      <td>5d711cff-d9eb-409d-9664-cf0a6819ce3a</td>\n",
       "      <td>NC</td>\n",
       "      <td>False</td>\n",
       "      <td>68</td>\n",
       "      <td>DAILY_PAYMENT_SERVICES</td>\n",
       "      <td>HEALTH</td>\n",
       "      <td>COMPLETED</td>\n",
       "      <td>F</td>\n",
       "      <td>1978-02-03</td>\n",
       "      <td>FR</td>\n",
       "      <td>fr_FR</td>\n",
       "      <td>COMPLETED</td>\n",
       "      <td>False</td>\n",
       "      <td>False</td>\n",
       "      <td>ACTIVE</td>\n",
       "    </tr>\n",
       "    <tr>\n",
       "      <th>1</th>\n",
       "      <td>005256f3-53d4-471c-8bbd-b0c5e16bf2f7</td>\n",
       "      <td>882dd5b7-e378-4947-89e0-900a79b3083f</td>\n",
       "      <td>FR</td>\n",
       "      <td>True</td>\n",
       "      <td>33</td>\n",
       "      <td>TRAVEL_ACCOUNT</td>\n",
       "      <td>SERVICE_AND_SALES</td>\n",
       "      <td>COMPLETED</td>\n",
       "      <td>M</td>\n",
       "      <td>2002-03-09</td>\n",
       "      <td>FR</td>\n",
       "      <td>fr_FR</td>\n",
       "      <td>COMPLETED</td>\n",
       "      <td>False</td>\n",
       "      <td>False</td>\n",
       "      <td>SUSPENDED</td>\n",
       "    </tr>\n",
       "    <tr>\n",
       "      <th>2</th>\n",
       "      <td>013604f7-775a-43ca-9cfd-6fa811a89487</td>\n",
       "      <td>89f1bf0a-3436-4ae5-9e13-ecbf915bda81</td>\n",
       "      <td>FR</td>\n",
       "      <td>True</td>\n",
       "      <td>33</td>\n",
       "      <td>CRYPTO_SERVICES</td>\n",
       "      <td>OTHER_SERVICES</td>\n",
       "      <td>COMPLETED</td>\n",
       "      <td>M</td>\n",
       "      <td>1995-11-17</td>\n",
       "      <td>FR</td>\n",
       "      <td>fr_FR</td>\n",
       "      <td>COMPLETED</td>\n",
       "      <td>False</td>\n",
       "      <td>False</td>\n",
       "      <td>ACTIVE</td>\n",
       "    </tr>\n",
       "    <tr>\n",
       "      <th>3</th>\n",
       "      <td>02c62912-a1d4-41cf-a8cd-681f8e97afc9</td>\n",
       "      <td>9f99203c-eb2a-4b23-92fe-6a87ea3c5124</td>\n",
       "      <td>FR</td>\n",
       "      <td>False</td>\n",
       "      <td>68</td>\n",
       "      <td>INTERNATIONAL_TRANSFERS</td>\n",
       "      <td>UNEMPLOYED</td>\n",
       "      <td>COMPLETED</td>\n",
       "      <td>F</td>\n",
       "      <td>1999-07-16</td>\n",
       "      <td>FR</td>\n",
       "      <td>fr_FR</td>\n",
       "      <td>COMPLETED</td>\n",
       "      <td>False</td>\n",
       "      <td>False</td>\n",
       "      <td>ACTIVE</td>\n",
       "    </tr>\n",
       "    <tr>\n",
       "      <th>4</th>\n",
       "      <td>03ac32c8-723e-474b-b537-4a82ddefe32e</td>\n",
       "      <td>174769fb-4eda-403d-9956-4d428eacba13</td>\n",
       "      <td>FR</td>\n",
       "      <td>False</td>\n",
       "      <td>33</td>\n",
       "      <td>INTERNATIONAL_TRANSFERS</td>\n",
       "      <td>UNEMPLOYED</td>\n",
       "      <td>COMPLETED</td>\n",
       "      <td>M</td>\n",
       "      <td>1980-07-29</td>\n",
       "      <td>FR</td>\n",
       "      <td>fr_FR</td>\n",
       "      <td>COMPLETED</td>\n",
       "      <td>False</td>\n",
       "      <td>False</td>\n",
       "      <td>SUSPENDED</td>\n",
       "    </tr>\n",
       "  </tbody>\n",
       "</table>\n",
       "</div>"
      ],
      "text/plain": [
       "                                user_id                            session_id  \\\n",
       "0  00404b94-5c1b-47b0-9486-27ddda96ba52  5d711cff-d9eb-409d-9664-cf0a6819ce3a   \n",
       "1  005256f3-53d4-471c-8bbd-b0c5e16bf2f7  882dd5b7-e378-4947-89e0-900a79b3083f   \n",
       "2  013604f7-775a-43ca-9cfd-6fa811a89487  89f1bf0a-3436-4ae5-9e13-ecbf915bda81   \n",
       "3  02c62912-a1d4-41cf-a8cd-681f8e97afc9  9f99203c-eb2a-4b23-92fe-6a87ea3c5124   \n",
       "4  03ac32c8-723e-474b-b537-4a82ddefe32e  174769fb-4eda-403d-9956-4d428eacba13   \n",
       "\n",
       "  country_of_residence  has_biometrics  phone_number_country_code  \\\n",
       "0                   NC           False                         68   \n",
       "1                   FR            True                         33   \n",
       "2                   FR            True                         33   \n",
       "3                   FR           False                         68   \n",
       "4                   FR           False                         33   \n",
       "\n",
       "         reason_to_use_app         occupation  kyc_state gender date_of_birth  \\\n",
       "0   DAILY_PAYMENT_SERVICES             HEALTH  COMPLETED      F    1978-02-03   \n",
       "1           TRAVEL_ACCOUNT  SERVICE_AND_SALES  COMPLETED      M    2002-03-09   \n",
       "2          CRYPTO_SERVICES     OTHER_SERVICES  COMPLETED      M    1995-11-17   \n",
       "3  INTERNATIONAL_TRANSFERS         UNEMPLOYED  COMPLETED      F    1999-07-16   \n",
       "4  INTERNATIONAL_TRANSFERS         UNEMPLOYED  COMPLETED      M    1980-07-29   \n",
       "\n",
       "  document_issuing_country locale screening_state  is_adverse_media_minor  \\\n",
       "0                       FR  fr_FR       COMPLETED                   False   \n",
       "1                       FR  fr_FR       COMPLETED                   False   \n",
       "2                       FR  fr_FR       COMPLETED                   False   \n",
       "3                       FR  fr_FR       COMPLETED                   False   \n",
       "4                       FR  fr_FR       COMPLETED                   False   \n",
       "\n",
       "   is_pep user_current_state  \n",
       "0   False             ACTIVE  \n",
       "1   False          SUSPENDED  \n",
       "2   False             ACTIVE  \n",
       "3   False             ACTIVE  \n",
       "4   False          SUSPENDED  "
      ]
     },
     "execution_count": 4,
     "metadata": {},
     "output_type": "execute_result"
    }
   ],
   "source": [
    "labelled_user_info_df.head()"
   ]
  },
  {
   "cell_type": "code",
   "execution_count": 5,
   "id": "4e8ad9e9-cd5e-4110-a930-9f056461417c",
   "metadata": {},
   "outputs": [
    {
     "data": {
      "text/plain": [
       "(432, 432)"
      ]
     },
     "execution_count": 5,
     "metadata": {},
     "output_type": "execute_result"
    }
   ],
   "source": [
    "labelled_user_info_df.user_id.nunique(), labelled_user_info_df.session_id.nunique()"
   ]
  },
  {
   "cell_type": "code",
   "execution_count": 6,
   "id": "1e6b047d-e3d5-42f5-b5d5-4b63724d8260",
   "metadata": {},
   "outputs": [],
   "source": [
    "# Return data which has more than one same value for some specific features\n",
    "def get_repeated_data(data, column):\n",
    "    try:\n",
    "        # Group by 'column' and filter groups having more than one entry\n",
    "        repeated_data = data[data.duplicated(subset=[column], keep=False)]\n",
    "        \n",
    "        if repeated_data.empty:\n",
    "            print(\"No duplicate data found.\")\n",
    "        else:\n",
    "            print(\"Duplicate data found:\")\n",
    "            return repeated_data\n",
    "    except KeyError:\n",
    "        print(f\"Error: The column '{column}' does not exist in the dataset.\")\n",
    "    except Exception as e:\n",
    "        print(f\"An unexpected error occurred: {e}\")"
   ]
  },
  {
   "cell_type": "code",
   "execution_count": 7,
   "id": "37daeada-78fa-46b5-8e43-4d629dcc99c0",
   "metadata": {},
   "outputs": [
    {
     "name": "stdout",
     "output_type": "stream",
     "text": [
      "(432, 16)\n"
     ]
    }
   ],
   "source": [
    "# Remove Missing data records\n",
    "def remove_nan_rows(df, id_column):\n",
    "    # Step 1: Remove rows with NaN values, but only if there are other rows with valid data for the same 'user_id'\n",
    "    df_cleaned = df.dropna(subset=df.columns.difference([id_column]))\n",
    "    \n",
    "    # Step 2: Return the cleaned DataFrame\n",
    "    return df_cleaned\n",
    "\n",
    "# Call remove_nan_rows\n",
    "cleaned_user_info_df = remove_nan_rows(labelled_user_info_df, 'user_id')\n",
    "print(cleaned_user_info_df.shape)"
   ]
  },
  {
   "cell_type": "code",
   "execution_count": 8,
   "id": "8403c80b-9d1e-403d-8237-d2c4ce78c825",
   "metadata": {},
   "outputs": [
    {
     "data": {
      "text/html": [
       "<div>\n",
       "<style scoped>\n",
       "    .dataframe tbody tr th:only-of-type {\n",
       "        vertical-align: middle;\n",
       "    }\n",
       "\n",
       "    .dataframe tbody tr th {\n",
       "        vertical-align: top;\n",
       "    }\n",
       "\n",
       "    .dataframe thead th {\n",
       "        text-align: right;\n",
       "    }\n",
       "</style>\n",
       "<table border=\"1\" class=\"dataframe\">\n",
       "  <thead>\n",
       "    <tr style=\"text-align: right;\">\n",
       "      <th></th>\n",
       "      <th>user_id</th>\n",
       "      <th>session_id</th>\n",
       "      <th>country_of_residence</th>\n",
       "      <th>has_biometrics</th>\n",
       "      <th>phone_number_country_code</th>\n",
       "      <th>reason_to_use_app</th>\n",
       "      <th>occupation</th>\n",
       "      <th>kyc_state</th>\n",
       "      <th>gender</th>\n",
       "      <th>date_of_birth</th>\n",
       "      <th>document_issuing_country</th>\n",
       "      <th>locale</th>\n",
       "      <th>screening_state</th>\n",
       "      <th>is_adverse_media_minor</th>\n",
       "      <th>is_pep</th>\n",
       "      <th>user_current_state</th>\n",
       "    </tr>\n",
       "  </thead>\n",
       "  <tbody>\n",
       "    <tr>\n",
       "      <th>71</th>\n",
       "      <td>29b4ae86-4605-42f2-bb23-eff7bc1f13cc</td>\n",
       "      <td>56657a8d-d82f-4215-9ed7-72380c5cf1a6</td>\n",
       "      <td>FR</td>\n",
       "      <td>True</td>\n",
       "      <td>33</td>\n",
       "      <td>CRYPTO_SERVICES</td>\n",
       "      <td>RETIRED</td>\n",
       "      <td>COMPLETED</td>\n",
       "      <td>M</td>\n",
       "      <td>1956-08-28</td>\n",
       "      <td>FR</td>\n",
       "      <td>fr_FR</td>\n",
       "      <td>COMPLETED</td>\n",
       "      <td>False</td>\n",
       "      <td>False</td>\n",
       "      <td>ACTIVE</td>\n",
       "    </tr>\n",
       "  </tbody>\n",
       "</table>\n",
       "</div>"
      ],
      "text/plain": [
       "                                 user_id  \\\n",
       "71  29b4ae86-4605-42f2-bb23-eff7bc1f13cc   \n",
       "\n",
       "                              session_id country_of_residence  has_biometrics  \\\n",
       "71  56657a8d-d82f-4215-9ed7-72380c5cf1a6                   FR            True   \n",
       "\n",
       "    phone_number_country_code reason_to_use_app occupation  kyc_state gender  \\\n",
       "71                         33   CRYPTO_SERVICES    RETIRED  COMPLETED      M   \n",
       "\n",
       "   date_of_birth document_issuing_country locale screening_state  \\\n",
       "71    1956-08-28                       FR  fr_FR       COMPLETED   \n",
       "\n",
       "    is_adverse_media_minor  is_pep user_current_state  \n",
       "71                   False   False             ACTIVE  "
      ]
     },
     "execution_count": 8,
     "metadata": {},
     "output_type": "execute_result"
    }
   ],
   "source": [
    "cleaned_user_info_df[cleaned_user_info_df.user_id == '29b4ae86-4605-42f2-bb23-eff7bc1f13cc'].head()"
   ]
  },
  {
   "cell_type": "code",
   "execution_count": 11,
   "id": "6ff6861b-6514-4890-8ab4-b0539a409322",
   "metadata": {},
   "outputs": [
    {
     "name": "stdout",
     "output_type": "stream",
     "text": [
      "Duplicate data found:\n",
      "28     0f12e279-bfe4-4642-92d5-cf4407fc58dd\n",
      "30     0f12e279-bfe4-4642-92d5-cf4407fc58dd\n",
      "78     2e3e3b6d-720e-4af3-bc92-b34f7c2d772c\n",
      "79     2e3e3b6d-720e-4af3-bc92-b34f7c2d772c\n",
      "92     32ef57dc-b3e0-45d3-accf-2bee7a67bdf6\n",
      "93     32ef57dc-b3e0-45d3-accf-2bee7a67bdf6\n",
      "128    46852363-02ce-4b3b-8dee-4ca3a701f375\n",
      "130    46852363-02ce-4b3b-8dee-4ca3a701f375\n",
      "161    56e131f1-f869-40b7-99c4-8987de23e89c\n",
      "162    56e131f1-f869-40b7-99c4-8987de23e89c\n",
      "215    7105c83f-f17a-4438-bad0-3930654cc6c7\n",
      "216    7105c83f-f17a-4438-bad0-3930654cc6c7\n",
      "223    72f137f7-3d33-403c-aa22-dae9cf0f1875\n",
      "224    72f137f7-3d33-403c-aa22-dae9cf0f1875\n",
      "225    72f137f7-3d33-403c-aa22-dae9cf0f1875\n",
      "235    788ac9c6-579e-4915-94e2-c93c62f3cd83\n",
      "236    788ac9c6-579e-4915-94e2-c93c62f3cd83\n",
      "277    8f3d861d-c654-4517-9d32-12bd4ea78e39\n",
      "278    8f3d861d-c654-4517-9d32-12bd4ea78e39\n",
      "283    8f3d861d-c654-4517-9d32-12bd4ea78e39\n",
      "284    904fe986-ca2f-4dd9-aad4-cd636183eaf7\n",
      "285    904fe986-ca2f-4dd9-aad4-cd636183eaf7\n",
      "298    96566757-12b1-4641-a9cf-5790dfa64f28\n",
      "299    96566757-12b1-4641-a9cf-5790dfa64f28\n",
      "324    a002a13a-dcdc-4de5-8eb5-1bdf2f2e2475\n",
      "325    a002a13a-dcdc-4de5-8eb5-1bdf2f2e2475\n",
      "340    a5e2fcf0-6a67-4e2e-9fa3-1afe7e084d56\n",
      "341    a5e2fcf0-6a67-4e2e-9fa3-1afe7e084d56\n",
      "416    caaee3b0-5562-4a42-8cce-80e1700412f8\n",
      "418    caaee3b0-5562-4a42-8cce-80e1700412f8\n",
      "Name: user_id, dtype: object\n"
     ]
    }
   ],
   "source": [
    "# Get rows with duplicate 'user_id'\n",
    "duplicate_rows = get_repeated_data(cleaned_user_info_df, 'user_id')\n",
    "print(duplicate_rows.user_id)"
   ]
  },
  {
   "cell_type": "code",
   "execution_count": 13,
   "id": "210bf076-c296-4d05-9bf7-be5ea853fd54",
   "metadata": {},
   "outputs": [
    {
     "data": {
      "text/html": [
       "<div>\n",
       "<style scoped>\n",
       "    .dataframe tbody tr th:only-of-type {\n",
       "        vertical-align: middle;\n",
       "    }\n",
       "\n",
       "    .dataframe tbody tr th {\n",
       "        vertical-align: top;\n",
       "    }\n",
       "\n",
       "    .dataframe thead th {\n",
       "        text-align: right;\n",
       "    }\n",
       "</style>\n",
       "<table border=\"1\" class=\"dataframe\">\n",
       "  <thead>\n",
       "    <tr style=\"text-align: right;\">\n",
       "      <th></th>\n",
       "      <th>user_id</th>\n",
       "      <th>session_id</th>\n",
       "      <th>country_of_residence</th>\n",
       "      <th>has_biometrics</th>\n",
       "      <th>phone_number_country_code</th>\n",
       "      <th>reason_to_use_app</th>\n",
       "      <th>occupation</th>\n",
       "      <th>kyc_state</th>\n",
       "      <th>gender</th>\n",
       "      <th>date_of_birth</th>\n",
       "      <th>document_issuing_country</th>\n",
       "      <th>locale</th>\n",
       "      <th>screening_state</th>\n",
       "      <th>is_adverse_media_minor</th>\n",
       "      <th>is_pep</th>\n",
       "      <th>user_current_state</th>\n",
       "    </tr>\n",
       "  </thead>\n",
       "  <tbody>\n",
       "    <tr>\n",
       "      <th>223</th>\n",
       "      <td>72f137f7-3d33-403c-aa22-dae9cf0f1875</td>\n",
       "      <td>9a3a00e4-1ddb-460c-bf78-1ac4ec91a5ff</td>\n",
       "      <td>FR</td>\n",
       "      <td>True</td>\n",
       "      <td>33</td>\n",
       "      <td>DAILY_PAYMENT_SERVICES</td>\n",
       "      <td>OTHER_SERVICES</td>\n",
       "      <td>COMPLETED</td>\n",
       "      <td>M</td>\n",
       "      <td>1993-09-17</td>\n",
       "      <td>FR</td>\n",
       "      <td>fr_AE</td>\n",
       "      <td>COMPLETED</td>\n",
       "      <td>False</td>\n",
       "      <td>False</td>\n",
       "      <td>SUSPENDED</td>\n",
       "    </tr>\n",
       "    <tr>\n",
       "      <th>224</th>\n",
       "      <td>72f137f7-3d33-403c-aa22-dae9cf0f1875</td>\n",
       "      <td>9a3a00e4-1ddb-460c-bf78-1ac4ec91a5ff</td>\n",
       "      <td>FR</td>\n",
       "      <td>True</td>\n",
       "      <td>33</td>\n",
       "      <td>DAILY_PAYMENT_SERVICES</td>\n",
       "      <td>OTHER_SERVICES</td>\n",
       "      <td>COMPLETED</td>\n",
       "      <td>M</td>\n",
       "      <td>1993-09-17</td>\n",
       "      <td>FR</td>\n",
       "      <td>fr_FR</td>\n",
       "      <td>COMPLETED</td>\n",
       "      <td>False</td>\n",
       "      <td>False</td>\n",
       "      <td>SUSPENDED</td>\n",
       "    </tr>\n",
       "    <tr>\n",
       "      <th>225</th>\n",
       "      <td>72f137f7-3d33-403c-aa22-dae9cf0f1875</td>\n",
       "      <td>9a3a00e4-1ddb-460c-bf78-1ac4ec91a5ff</td>\n",
       "      <td>FR</td>\n",
       "      <td>True</td>\n",
       "      <td>33</td>\n",
       "      <td>DAILY_PAYMENT_SERVICES</td>\n",
       "      <td>OTHER_SERVICES</td>\n",
       "      <td>COMPLETED</td>\n",
       "      <td>M</td>\n",
       "      <td>1993-09-17</td>\n",
       "      <td>FR</td>\n",
       "      <td>fr_AE</td>\n",
       "      <td>COMPLETED</td>\n",
       "      <td>False</td>\n",
       "      <td>False</td>\n",
       "      <td>ACTIVE</td>\n",
       "    </tr>\n",
       "  </tbody>\n",
       "</table>\n",
       "</div>"
      ],
      "text/plain": [
       "                                  user_id  \\\n",
       "223  72f137f7-3d33-403c-aa22-dae9cf0f1875   \n",
       "224  72f137f7-3d33-403c-aa22-dae9cf0f1875   \n",
       "225  72f137f7-3d33-403c-aa22-dae9cf0f1875   \n",
       "\n",
       "                               session_id country_of_residence  \\\n",
       "223  9a3a00e4-1ddb-460c-bf78-1ac4ec91a5ff                   FR   \n",
       "224  9a3a00e4-1ddb-460c-bf78-1ac4ec91a5ff                   FR   \n",
       "225  9a3a00e4-1ddb-460c-bf78-1ac4ec91a5ff                   FR   \n",
       "\n",
       "     has_biometrics  phone_number_country_code       reason_to_use_app  \\\n",
       "223            True                         33  DAILY_PAYMENT_SERVICES   \n",
       "224            True                         33  DAILY_PAYMENT_SERVICES   \n",
       "225            True                         33  DAILY_PAYMENT_SERVICES   \n",
       "\n",
       "         occupation  kyc_state gender date_of_birth document_issuing_country  \\\n",
       "223  OTHER_SERVICES  COMPLETED      M    1993-09-17                       FR   \n",
       "224  OTHER_SERVICES  COMPLETED      M    1993-09-17                       FR   \n",
       "225  OTHER_SERVICES  COMPLETED      M    1993-09-17                       FR   \n",
       "\n",
       "    locale screening_state  is_adverse_media_minor  is_pep user_current_state  \n",
       "223  fr_AE       COMPLETED                   False   False          SUSPENDED  \n",
       "224  fr_FR       COMPLETED                   False   False          SUSPENDED  \n",
       "225  fr_AE       COMPLETED                   False   False             ACTIVE  "
      ]
     },
     "execution_count": 13,
     "metadata": {},
     "output_type": "execute_result"
    }
   ],
   "source": [
    "#29b4ae86-4605-42f2-bb23-eff7bc1f13cc -> kyc_state diff\n",
    "#7105c83f-f17a-4438-bad0-3930654cc6c7 -> locale diff\n",
    "#0f12e279-bfe4-4642-92d5-cf4407fc58dd -> has_biometrics diff\n",
    "#12fb705c-c068-4033-a1d6-81c9f937f00c -> reason_to_use_app diff\n",
    "#2e3e3b6d-720e-4af3-bc92-b34f7c2d772c -> user_current_state diff *****\n",
    "#2f89a26f-09a5-42cd-b169-ec1c9b423f4a -> reason_to_use_app diff\n",
    "#29b4ae86-4605-42f2-bb23-eff7bc1f13cc -> kyc_state diff\n",
    "#29b4ae86-4605-42f2-bb23-eff7bc1f13cc -> kyc_state diff\n",
    "cleaned_user_info_df[cleaned_user_info_df.user_id == '72f137f7-3d33-403c-aa22-dae9cf0f1875'].head()"
   ]
  },
  {
   "cell_type": "code",
   "execution_count": 14,
   "id": "2abc2cf8-ccad-4297-beba-3d308f3af6a6",
   "metadata": {},
   "outputs": [
    {
     "data": {
      "text/plain": [
       "country_of_residence\n",
       "FR    311\n",
       "PF     80\n",
       "NC     28\n",
       "YT      5\n",
       "RE      4\n",
       "GP      3\n",
       "MQ      1\n",
       "Name: count, dtype: int64"
      ]
     },
     "execution_count": 14,
     "metadata": {},
     "output_type": "execute_result"
    }
   ],
   "source": [
    "cleaned_user_info_df.country_of_residence.value_counts()"
   ]
  },
  {
   "cell_type": "code",
   "execution_count": 24,
   "id": "9e6af62c-3cbe-4ebe-8c7c-0471303f9b19",
   "metadata": {},
   "outputs": [
    {
     "data": {
      "text/plain": [
       "document_issuing_country\n",
       "FR    420\n",
       "IT      5\n",
       "PT      4\n",
       "ES      2\n",
       "RO      1\n",
       "Name: count, dtype: int64"
      ]
     },
     "execution_count": 24,
     "metadata": {},
     "output_type": "execute_result"
    }
   ],
   "source": [
    "\n",
    "cleaned_user_info_df.document_issuing_country.value_counts()"
   ]
  },
  {
   "cell_type": "code",
   "execution_count": 16,
   "id": "6e45e263-7b63-4a7d-9542-38fd6c3512c3",
   "metadata": {},
   "outputs": [
    {
     "data": {
      "text/plain": [
       "phone_number_country_code\n",
       "33    295\n",
       "68    111\n",
       "26     12\n",
       "59      4\n",
       "44      3\n",
       "35      3\n",
       "39      2\n",
       "34      2\n",
       "Name: count, dtype: int64"
      ]
     },
     "execution_count": 16,
     "metadata": {},
     "output_type": "execute_result"
    }
   ],
   "source": [
    "cleaned_user_info_df.phone_number_country_code.value_counts()"
   ]
  },
  {
   "cell_type": "code",
   "execution_count": 17,
   "id": "035b38d5-eb61-4a03-9ceb-1b035b203f35",
   "metadata": {},
   "outputs": [
    {
     "data": {
      "text/plain": [
       "locale\n",
       "fr_FR     344\n",
       "fr_PF      33\n",
       "fr_NC      14\n",
       "en_FR       9\n",
       "fr_US       5\n",
       "en_GB       3\n",
       "en_001      2\n",
       "fr_MA       2\n",
       "pt_BR       2\n",
       "fr_BJ       2\n",
       "en_ES       2\n",
       "en_US       2\n",
       "fr_AE       2\n",
       "fr_ES       1\n",
       "en_AU       1\n",
       "en_AL       1\n",
       "fr_GB       1\n",
       "fr_PT       1\n",
       "es_ES       1\n",
       "ro_RO       1\n",
       "fr_BE       1\n",
       "fr_YT       1\n",
       "fr_CA       1\n",
       "Name: count, dtype: int64"
      ]
     },
     "execution_count": 17,
     "metadata": {},
     "output_type": "execute_result"
    }
   ],
   "source": [
    "cleaned_user_info_df.locale.value_counts()"
   ]
  },
  {
   "cell_type": "code",
   "execution_count": 18,
   "id": "4e102886-8d5f-4f6d-85a5-22221f30bcf9",
   "metadata": {},
   "outputs": [
    {
     "data": {
      "text/plain": [
       "has_biometrics\n",
       "True     301\n",
       "False    131\n",
       "Name: count, dtype: int64"
      ]
     },
     "execution_count": 18,
     "metadata": {},
     "output_type": "execute_result"
    }
   ],
   "source": [
    "cleaned_user_info_df.has_biometrics.value_counts()"
   ]
  },
  {
   "cell_type": "code",
   "execution_count": 19,
   "id": "8210fc8b-ee31-4a39-a338-55b9ee72b399",
   "metadata": {},
   "outputs": [
    {
     "data": {
      "text/plain": [
       "reason_to_use_app\n",
       "DAILY_PAYMENT_SERVICES         202\n",
       "CRYPTO_SERVICES                 95\n",
       "NON_CUSTODIAL_CRYPTO_WALLET     46\n",
       "INTERNATIONAL_TRANSFERS         45\n",
       "TRAVEL_ACCOUNT                  44\n",
       "Name: count, dtype: int64"
      ]
     },
     "execution_count": 19,
     "metadata": {},
     "output_type": "execute_result"
    }
   ],
   "source": [
    "cleaned_user_info_df.reason_to_use_app.value_counts()"
   ]
  },
  {
   "cell_type": "code",
   "execution_count": 20,
   "id": "5f34efa1-429d-4678-9271-9bc79dbf3a7b",
   "metadata": {},
   "outputs": [
    {
     "data": {
      "text/plain": [
       "occupation\n",
       "UNEMPLOYED                              77\n",
       "OTHER_SERVICES                          75\n",
       "SERVICE_AND_SALES                       62\n",
       "STUDENTS                                45\n",
       "RETIRED                                 26\n",
       "ADMINISTRATION                          23\n",
       "EDUCATION                               18\n",
       "HEALTH                                  17\n",
       "MINING_CONSTRUCTION_AND_TRANSPORT       15\n",
       "MANAGEMENT                              15\n",
       "FOOD_PREP_AND_CLEANING                  14\n",
       "IT_AND_COMMUNICATION                    13\n",
       "CRAFT_AND_RELATED_TRADES                12\n",
       "AGRICULTURE_FISHERY_FORESTRY             9\n",
       "PLANT_AND_MACHINE_OPERATION              5\n",
       "LEGAL_SOCIAL_AND_CULTURAL_ACTIVITIES     4\n",
       "SCIENCE_AND_ENGINEERING                  2\n",
       "Name: count, dtype: int64"
      ]
     },
     "execution_count": 20,
     "metadata": {},
     "output_type": "execute_result"
    }
   ],
   "source": [
    "cleaned_user_info_df.occupation.value_counts()"
   ]
  },
  {
   "cell_type": "code",
   "execution_count": 21,
   "id": "efb9aeeb-74cd-4248-a42e-21ca43002471",
   "metadata": {},
   "outputs": [
    {
     "data": {
      "text/plain": [
       "kyc_state\n",
       "COMPLETED    432\n",
       "Name: count, dtype: int64"
      ]
     },
     "execution_count": 21,
     "metadata": {},
     "output_type": "execute_result"
    }
   ],
   "source": [
    "cleaned_user_info_df.kyc_state.value_counts()"
   ]
  },
  {
   "cell_type": "code",
   "execution_count": 22,
   "id": "5401c323-e8da-474c-b55d-3650dd87d75e",
   "metadata": {},
   "outputs": [
    {
     "data": {
      "text/plain": [
       "gender\n",
       "M    289\n",
       "F    143\n",
       "Name: count, dtype: int64"
      ]
     },
     "execution_count": 22,
     "metadata": {},
     "output_type": "execute_result"
    }
   ],
   "source": [
    "cleaned_user_info_df.gender.value_counts()"
   ]
  },
  {
   "cell_type": "code",
   "execution_count": 23,
   "id": "99aef3da-aca5-49ee-b25f-35651c75eb21",
   "metadata": {},
   "outputs": [
    {
     "data": {
      "text/plain": [
       "('1940-03-23', '2006-09-13')"
      ]
     },
     "execution_count": 23,
     "metadata": {},
     "output_type": "execute_result"
    }
   ],
   "source": [
    "cleaned_user_info_df.date_of_birth.min(), cleaned_user_info_df.date_of_birth.max()"
   ]
  },
  {
   "cell_type": "code",
   "execution_count": 25,
   "id": "ff889bcd-468f-485f-bf25-94984a7bdd9a",
   "metadata": {},
   "outputs": [
    {
     "data": {
      "text/plain": [
       "screening_state\n",
       "COMPLETED         414\n",
       "TO_SOFT_REVIEW     18\n",
       "Name: count, dtype: int64"
      ]
     },
     "execution_count": 25,
     "metadata": {},
     "output_type": "execute_result"
    }
   ],
   "source": [
    "cleaned_user_info_df.screening_state.value_counts()"
   ]
  },
  {
   "cell_type": "code",
   "execution_count": 26,
   "id": "4b2a0ec3-3005-4290-b994-c325ff3ad476",
   "metadata": {},
   "outputs": [
    {
     "data": {
      "text/plain": [
       "is_adverse_media_minor\n",
       "False    432\n",
       "Name: count, dtype: int64"
      ]
     },
     "execution_count": 26,
     "metadata": {},
     "output_type": "execute_result"
    }
   ],
   "source": [
    "cleaned_user_info_df.is_adverse_media_minor.value_counts()"
   ]
  },
  {
   "cell_type": "code",
   "execution_count": 27,
   "id": "cd8ee382-f402-43f6-8be3-e9e2d0d95261",
   "metadata": {},
   "outputs": [
    {
     "data": {
      "text/plain": [
       "is_pep\n",
       "False    432\n",
       "Name: count, dtype: int64"
      ]
     },
     "execution_count": 27,
     "metadata": {},
     "output_type": "execute_result"
    }
   ],
   "source": [
    "cleaned_user_info_df.is_pep.value_counts()"
   ]
  },
  {
   "cell_type": "code",
   "execution_count": 28,
   "id": "0fecafa0-b7ca-48c9-99e1-85ca0e989ede",
   "metadata": {},
   "outputs": [
    {
     "data": {
      "text/plain": [
       "user_current_state\n",
       "ACTIVE       353\n",
       "SUSPENDED     79\n",
       "Name: count, dtype: int64"
      ]
     },
     "execution_count": 28,
     "metadata": {},
     "output_type": "execute_result"
    }
   ],
   "source": [
    "cleaned_user_info_df.user_current_state.value_counts()"
   ]
  },
  {
   "cell_type": "code",
   "execution_count": null,
   "id": "2f6093ac-35e5-46ce-873f-3a8771558de9",
   "metadata": {},
   "outputs": [],
   "source": []
  },
  {
   "cell_type": "code",
   "execution_count": 34,
   "id": "d32a4d02-1849-48ca-8303-7c22e4bb8964",
   "metadata": {},
   "outputs": [
    {
     "name": "stdout",
     "output_type": "stream",
     "text": [
      "File read successfully!\n",
      "(300, 14)\n"
     ]
    }
   ],
   "source": [
    "# Call read data func\n",
    "file_path = '../data/HomeTask _ [3] User Information Unlabelled.csv'\n",
    "unlabelled_user_info_df = read_csv_file(file_path)\n",
    "\n",
    "if unlabelled_user_info_df is not None:\n",
    "    print(unlabelled_user_info_df.shape)  # Display the first few rows if data was successfully loaded"
   ]
  },
  {
   "cell_type": "code",
   "execution_count": 35,
   "id": "4b8122ea-a8d9-4feb-bd53-73c28462c794",
   "metadata": {},
   "outputs": [
    {
     "data": {
      "text/html": [
       "<div>\n",
       "<style scoped>\n",
       "    .dataframe tbody tr th:only-of-type {\n",
       "        vertical-align: middle;\n",
       "    }\n",
       "\n",
       "    .dataframe tbody tr th {\n",
       "        vertical-align: top;\n",
       "    }\n",
       "\n",
       "    .dataframe thead th {\n",
       "        text-align: right;\n",
       "    }\n",
       "</style>\n",
       "<table border=\"1\" class=\"dataframe\">\n",
       "  <thead>\n",
       "    <tr style=\"text-align: right;\">\n",
       "      <th></th>\n",
       "      <th>user_id</th>\n",
       "      <th>session_id</th>\n",
       "      <th>country_of_residence</th>\n",
       "      <th>has_biometrics</th>\n",
       "      <th>phone_number_country_code</th>\n",
       "      <th>reason_to_use_app</th>\n",
       "      <th>occupation</th>\n",
       "      <th>kyc_state</th>\n",
       "      <th>gender</th>\n",
       "      <th>document_issuing_country</th>\n",
       "      <th>locale</th>\n",
       "      <th>screening_state</th>\n",
       "      <th>is_adverse_media_minor</th>\n",
       "      <th>is_pep</th>\n",
       "    </tr>\n",
       "  </thead>\n",
       "  <tbody>\n",
       "    <tr>\n",
       "      <th>0</th>\n",
       "      <td>8b9cdf59-96ce-43b8-bb72-8f5c405894f4</td>\n",
       "      <td>956f9bd1-6605-4f2c-b710-a64c31d84bec</td>\n",
       "      <td>FR</td>\n",
       "      <td>True</td>\n",
       "      <td>33</td>\n",
       "      <td>DAILY_PAYMENT_SERVICES</td>\n",
       "      <td>IT_AND_COMMUNICATION</td>\n",
       "      <td>COMPLETED</td>\n",
       "      <td>M</td>\n",
       "      <td>FR</td>\n",
       "      <td>fr_FR</td>\n",
       "      <td>COMPLETED</td>\n",
       "      <td>False</td>\n",
       "      <td>False</td>\n",
       "    </tr>\n",
       "    <tr>\n",
       "      <th>1</th>\n",
       "      <td>4ee4e538-94f9-4f0a-b410-907eecbbed70</td>\n",
       "      <td>e1d244eb-4369-4043-94be-371435fa9654</td>\n",
       "      <td>FR</td>\n",
       "      <td>True</td>\n",
       "      <td>33</td>\n",
       "      <td>DAILY_PAYMENT_SERVICES</td>\n",
       "      <td>MINING_CONSTRUCTION_AND_TRANSPORT</td>\n",
       "      <td>COMPLETED</td>\n",
       "      <td>M</td>\n",
       "      <td>FR</td>\n",
       "      <td>fr_US</td>\n",
       "      <td>COMPLETED</td>\n",
       "      <td>False</td>\n",
       "      <td>False</td>\n",
       "    </tr>\n",
       "    <tr>\n",
       "      <th>2</th>\n",
       "      <td>e409d12e-2b1e-44af-a08d-510d2fb016b2</td>\n",
       "      <td>835d0560-4767-4f01-8a8e-109780286976</td>\n",
       "      <td>FR</td>\n",
       "      <td>True</td>\n",
       "      <td>33</td>\n",
       "      <td>DAILY_PAYMENT_SERVICES</td>\n",
       "      <td>SERVICE_AND_SALES</td>\n",
       "      <td>COMPLETED</td>\n",
       "      <td>M</td>\n",
       "      <td>IT</td>\n",
       "      <td>fr_BR</td>\n",
       "      <td>TO_SOFT_REVIEW</td>\n",
       "      <td>False</td>\n",
       "      <td>False</td>\n",
       "    </tr>\n",
       "    <tr>\n",
       "      <th>3</th>\n",
       "      <td>8734c537-3655-45b7-a22b-a481f2e78f31</td>\n",
       "      <td>80c490ab-b4b8-4d4a-82b0-711709d05ea0</td>\n",
       "      <td>FR</td>\n",
       "      <td>True</td>\n",
       "      <td>33</td>\n",
       "      <td>DAILY_PAYMENT_SERVICES</td>\n",
       "      <td>STUDENTS</td>\n",
       "      <td>COMPLETED</td>\n",
       "      <td>M</td>\n",
       "      <td>FR</td>\n",
       "      <td>fr_FR</td>\n",
       "      <td>COMPLETED</td>\n",
       "      <td>False</td>\n",
       "      <td>False</td>\n",
       "    </tr>\n",
       "    <tr>\n",
       "      <th>4</th>\n",
       "      <td>c4fef617-020d-4b7f-94cf-3ded3b929fbf</td>\n",
       "      <td>bc5ba4ff-a60c-46db-ba79-28b9c52716c7</td>\n",
       "      <td>FR</td>\n",
       "      <td>False</td>\n",
       "      <td>33</td>\n",
       "      <td>NON_CUSTODIAL_CRYPTO_WALLET</td>\n",
       "      <td>OTHER_SERVICES</td>\n",
       "      <td>COMPLETED</td>\n",
       "      <td>M</td>\n",
       "      <td>IT</td>\n",
       "      <td>en_IT</td>\n",
       "      <td>COMPLETED</td>\n",
       "      <td>False</td>\n",
       "      <td>False</td>\n",
       "    </tr>\n",
       "  </tbody>\n",
       "</table>\n",
       "</div>"
      ],
      "text/plain": [
       "                                user_id                            session_id  \\\n",
       "0  8b9cdf59-96ce-43b8-bb72-8f5c405894f4  956f9bd1-6605-4f2c-b710-a64c31d84bec   \n",
       "1  4ee4e538-94f9-4f0a-b410-907eecbbed70  e1d244eb-4369-4043-94be-371435fa9654   \n",
       "2  e409d12e-2b1e-44af-a08d-510d2fb016b2  835d0560-4767-4f01-8a8e-109780286976   \n",
       "3  8734c537-3655-45b7-a22b-a481f2e78f31  80c490ab-b4b8-4d4a-82b0-711709d05ea0   \n",
       "4  c4fef617-020d-4b7f-94cf-3ded3b929fbf  bc5ba4ff-a60c-46db-ba79-28b9c52716c7   \n",
       "\n",
       "  country_of_residence  has_biometrics  phone_number_country_code  \\\n",
       "0                   FR            True                         33   \n",
       "1                   FR            True                         33   \n",
       "2                   FR            True                         33   \n",
       "3                   FR            True                         33   \n",
       "4                   FR           False                         33   \n",
       "\n",
       "             reason_to_use_app                         occupation  kyc_state  \\\n",
       "0       DAILY_PAYMENT_SERVICES               IT_AND_COMMUNICATION  COMPLETED   \n",
       "1       DAILY_PAYMENT_SERVICES  MINING_CONSTRUCTION_AND_TRANSPORT  COMPLETED   \n",
       "2       DAILY_PAYMENT_SERVICES                  SERVICE_AND_SALES  COMPLETED   \n",
       "3       DAILY_PAYMENT_SERVICES                           STUDENTS  COMPLETED   \n",
       "4  NON_CUSTODIAL_CRYPTO_WALLET                     OTHER_SERVICES  COMPLETED   \n",
       "\n",
       "  gender document_issuing_country locale screening_state  \\\n",
       "0      M                       FR  fr_FR       COMPLETED   \n",
       "1      M                       FR  fr_US       COMPLETED   \n",
       "2      M                       IT  fr_BR  TO_SOFT_REVIEW   \n",
       "3      M                       FR  fr_FR       COMPLETED   \n",
       "4      M                       IT  en_IT       COMPLETED   \n",
       "\n",
       "   is_adverse_media_minor  is_pep  \n",
       "0                   False   False  \n",
       "1                   False   False  \n",
       "2                   False   False  \n",
       "3                   False   False  \n",
       "4                   False   False  "
      ]
     },
     "execution_count": 35,
     "metadata": {},
     "output_type": "execute_result"
    }
   ],
   "source": [
    "unlabelled_user_info_df.head()"
   ]
  },
  {
   "cell_type": "code",
   "execution_count": 36,
   "id": "9eb28284-fc53-4535-9ca6-bc8c37e7b790",
   "metadata": {},
   "outputs": [
    {
     "name": "stdout",
     "output_type": "stream",
     "text": [
      "File read successfully!\n",
      "(5945, 11)\n"
     ]
    }
   ],
   "source": [
    "# Call read data func\n",
    "file_path = '../data/HomeTask_ [2] Transaction Data Labelled.csv'\n",
    "labelled_transaction_df = read_csv_file(file_path)\n",
    "\n",
    "if labelled_transaction_df is not None:\n",
    "    print(labelled_transaction_df.shape)  # Display shape of dataframe if data was successfully loaded"
   ]
  },
  {
   "cell_type": "code",
   "execution_count": 37,
   "id": "841be4f2-7dd1-47be-a2ad-e62a4e1a9866",
   "metadata": {},
   "outputs": [
    {
     "data": {
      "text/html": [
       "<div>\n",
       "<style scoped>\n",
       "    .dataframe tbody tr th:only-of-type {\n",
       "        vertical-align: middle;\n",
       "    }\n",
       "\n",
       "    .dataframe tbody tr th {\n",
       "        vertical-align: top;\n",
       "    }\n",
       "\n",
       "    .dataframe thead th {\n",
       "        text-align: right;\n",
       "    }\n",
       "</style>\n",
       "<table border=\"1\" class=\"dataframe\">\n",
       "  <thead>\n",
       "    <tr style=\"text-align: right;\">\n",
       "      <th></th>\n",
       "      <th>id</th>\n",
       "      <th>reference_transaction_id</th>\n",
       "      <th>user_id</th>\n",
       "      <th>state</th>\n",
       "      <th>type</th>\n",
       "      <th>category_id</th>\n",
       "      <th>amount</th>\n",
       "      <th>currency</th>\n",
       "      <th>direction</th>\n",
       "      <th>completed_at</th>\n",
       "      <th>created_at</th>\n",
       "    </tr>\n",
       "  </thead>\n",
       "  <tbody>\n",
       "    <tr>\n",
       "      <th>0</th>\n",
       "      <td>f72eb354-1dd8-4570-8b75-54716fcd9050</td>\n",
       "      <td>9fdc0519-db17-45fc-b86b-6a740fbd42b4</td>\n",
       "      <td>d43eb4ce-1533-426f-852c-df0f43958922</td>\n",
       "      <td>FAILED</td>\n",
       "      <td>CARD_TOP_UP</td>\n",
       "      <td>bd76ea84-00ec-4bf1-844c-855b39cc8a53</td>\n",
       "      <td>500.00</td>\n",
       "      <td>EUR</td>\n",
       "      <td>IN</td>\n",
       "      <td>2024-08-26 09:05:37.213234 UTC</td>\n",
       "      <td>2024-08-26 09:05:33.016947 UTC</td>\n",
       "    </tr>\n",
       "    <tr>\n",
       "      <th>1</th>\n",
       "      <td>8977cd2a-f971-43ef-87fd-e7006e501845</td>\n",
       "      <td>30f7fe83-31c3-430c-a8ba-66cbe26811f9</td>\n",
       "      <td>d43eb4ce-1533-426f-852c-df0f43958922</td>\n",
       "      <td>FAILED</td>\n",
       "      <td>CARD_TOP_UP</td>\n",
       "      <td>bd76ea84-00ec-4bf1-844c-855b39cc8a53</td>\n",
       "      <td>500.00</td>\n",
       "      <td>EUR</td>\n",
       "      <td>IN</td>\n",
       "      <td>2024-08-26 09:03:07.343472 UTC</td>\n",
       "      <td>2024-08-26 09:03:00.671257 UTC</td>\n",
       "    </tr>\n",
       "    <tr>\n",
       "      <th>2</th>\n",
       "      <td>b5c1a477-a784-4ab1-9af1-a055adb20a54</td>\n",
       "      <td>25dc15f1-41de-4101-8a6e-26d0a4940b86</td>\n",
       "      <td>d43eb4ce-1533-426f-852c-df0f43958922</td>\n",
       "      <td>PENDING</td>\n",
       "      <td>CARDS</td>\n",
       "      <td>61ca224f-774d-450c-899a-147bcc1ddb33</td>\n",
       "      <td>10.00</td>\n",
       "      <td>EUR</td>\n",
       "      <td>OUT</td>\n",
       "      <td>NaN</td>\n",
       "      <td>2024-08-25 14:40:47.603417 UTC</td>\n",
       "    </tr>\n",
       "    <tr>\n",
       "      <th>3</th>\n",
       "      <td>2f349fdd-e22f-43b0-a28f-08e7e1b3d8b2</td>\n",
       "      <td>56aafa31-209b-4cc4-afd9-43f20c2f9814</td>\n",
       "      <td>d43eb4ce-1533-426f-852c-df0f43958922</td>\n",
       "      <td>PENDING</td>\n",
       "      <td>CRYPTO_ON_RAMP</td>\n",
       "      <td>740898cf-e9d6-4ff0-ade8-5fe8cdd092c8</td>\n",
       "      <td>900.00</td>\n",
       "      <td>EUR</td>\n",
       "      <td>OUT</td>\n",
       "      <td>NaN</td>\n",
       "      <td>2024-08-26 09:08:10.130901 UTC</td>\n",
       "    </tr>\n",
       "    <tr>\n",
       "      <th>4</th>\n",
       "      <td>4652f777-cd5e-42d1-9c2c-d77fc3138f94</td>\n",
       "      <td>ccc65c16-29a3-4e01-a3d3-e3e5c0f5a94d</td>\n",
       "      <td>d43eb4ce-1533-426f-852c-df0f43958922</td>\n",
       "      <td>PENDING</td>\n",
       "      <td>CARDS</td>\n",
       "      <td>74724282-f4b2-4629-94b6-fcd7880ce7fe</td>\n",
       "      <td>16.45</td>\n",
       "      <td>EUR</td>\n",
       "      <td>OUT</td>\n",
       "      <td>NaN</td>\n",
       "      <td>2024-08-25 14:23:13.301453 UTC</td>\n",
       "    </tr>\n",
       "  </tbody>\n",
       "</table>\n",
       "</div>"
      ],
      "text/plain": [
       "                                     id              reference_transaction_id  \\\n",
       "0  f72eb354-1dd8-4570-8b75-54716fcd9050  9fdc0519-db17-45fc-b86b-6a740fbd42b4   \n",
       "1  8977cd2a-f971-43ef-87fd-e7006e501845  30f7fe83-31c3-430c-a8ba-66cbe26811f9   \n",
       "2  b5c1a477-a784-4ab1-9af1-a055adb20a54  25dc15f1-41de-4101-8a6e-26d0a4940b86   \n",
       "3  2f349fdd-e22f-43b0-a28f-08e7e1b3d8b2  56aafa31-209b-4cc4-afd9-43f20c2f9814   \n",
       "4  4652f777-cd5e-42d1-9c2c-d77fc3138f94  ccc65c16-29a3-4e01-a3d3-e3e5c0f5a94d   \n",
       "\n",
       "                                user_id    state            type  \\\n",
       "0  d43eb4ce-1533-426f-852c-df0f43958922   FAILED     CARD_TOP_UP   \n",
       "1  d43eb4ce-1533-426f-852c-df0f43958922   FAILED     CARD_TOP_UP   \n",
       "2  d43eb4ce-1533-426f-852c-df0f43958922  PENDING           CARDS   \n",
       "3  d43eb4ce-1533-426f-852c-df0f43958922  PENDING  CRYPTO_ON_RAMP   \n",
       "4  d43eb4ce-1533-426f-852c-df0f43958922  PENDING           CARDS   \n",
       "\n",
       "                            category_id  amount currency direction  \\\n",
       "0  bd76ea84-00ec-4bf1-844c-855b39cc8a53  500.00      EUR        IN   \n",
       "1  bd76ea84-00ec-4bf1-844c-855b39cc8a53  500.00      EUR        IN   \n",
       "2  61ca224f-774d-450c-899a-147bcc1ddb33   10.00      EUR       OUT   \n",
       "3  740898cf-e9d6-4ff0-ade8-5fe8cdd092c8  900.00      EUR       OUT   \n",
       "4  74724282-f4b2-4629-94b6-fcd7880ce7fe   16.45      EUR       OUT   \n",
       "\n",
       "                     completed_at                      created_at  \n",
       "0  2024-08-26 09:05:37.213234 UTC  2024-08-26 09:05:33.016947 UTC  \n",
       "1  2024-08-26 09:03:07.343472 UTC  2024-08-26 09:03:00.671257 UTC  \n",
       "2                             NaN  2024-08-25 14:40:47.603417 UTC  \n",
       "3                             NaN  2024-08-26 09:08:10.130901 UTC  \n",
       "4                             NaN  2024-08-25 14:23:13.301453 UTC  "
      ]
     },
     "execution_count": 37,
     "metadata": {},
     "output_type": "execute_result"
    }
   ],
   "source": [
    "labelled_transaction_df.head()"
   ]
  },
  {
   "cell_type": "code",
   "execution_count": 38,
   "id": "3a158475-c418-4cd2-bc13-3bf3f3d8c36e",
   "metadata": {},
   "outputs": [
    {
     "name": "stdout",
     "output_type": "stream",
     "text": [
      "File read successfully!\n",
      "(9849, 10)\n"
     ]
    }
   ],
   "source": [
    "# Call read data func\n",
    "file_path = '../data/HomeTask _ [4] TransactionData Unlabelled.csv'\n",
    "unlabelled_transaction_df = read_csv_file(file_path)\n",
    "\n",
    "if unlabelled_transaction_df is not None:\n",
    "    print(unlabelled_transaction_df.shape)  # Display shape of dataframe if data was successfully loaded"
   ]
  },
  {
   "cell_type": "code",
   "execution_count": 39,
   "id": "696229e7-6537-4613-83ce-cdbf1fdb082e",
   "metadata": {},
   "outputs": [
    {
     "data": {
      "text/html": [
       "<div>\n",
       "<style scoped>\n",
       "    .dataframe tbody tr th:only-of-type {\n",
       "        vertical-align: middle;\n",
       "    }\n",
       "\n",
       "    .dataframe tbody tr th {\n",
       "        vertical-align: top;\n",
       "    }\n",
       "\n",
       "    .dataframe thead th {\n",
       "        text-align: right;\n",
       "    }\n",
       "</style>\n",
       "<table border=\"1\" class=\"dataframe\">\n",
       "  <thead>\n",
       "    <tr style=\"text-align: right;\">\n",
       "      <th></th>\n",
       "      <th>id</th>\n",
       "      <th>reference_transaction_id</th>\n",
       "      <th>user_id</th>\n",
       "      <th>state</th>\n",
       "      <th>type</th>\n",
       "      <th>amount</th>\n",
       "      <th>currency</th>\n",
       "      <th>direction</th>\n",
       "      <th>completed_at</th>\n",
       "      <th>created_at</th>\n",
       "    </tr>\n",
       "  </thead>\n",
       "  <tbody>\n",
       "    <tr>\n",
       "      <th>0</th>\n",
       "      <td>a3c8bedb-312c-4155-a2f4-8883f58c03bc</td>\n",
       "      <td>568b3e92-9e58-4cd2-ad3b-28b8d8e7eb18</td>\n",
       "      <td>0eb40954-c525-4fbe-b691-dcdd0fb65208</td>\n",
       "      <td>FAILED</td>\n",
       "      <td>CARD_TOP_UP</td>\n",
       "      <td>50.0</td>\n",
       "      <td>EUR</td>\n",
       "      <td>IN</td>\n",
       "      <td>2024-08-25 22:42:42.423308 UTC</td>\n",
       "      <td>2024-08-25 22:42:38.977512 UTC</td>\n",
       "    </tr>\n",
       "    <tr>\n",
       "      <th>1</th>\n",
       "      <td>f1185255-0555-442a-9cad-eba75657a191</td>\n",
       "      <td>15ff6ae1-a71f-483a-985b-7c0c7a3c45cd</td>\n",
       "      <td>491576dd-e130-4330-af15-6252a30f0b3e</td>\n",
       "      <td>FAILED</td>\n",
       "      <td>CARD_TOP_UP</td>\n",
       "      <td>500.0</td>\n",
       "      <td>EUR</td>\n",
       "      <td>IN</td>\n",
       "      <td>2024-08-26 11:37:09.881278 UTC</td>\n",
       "      <td>2024-08-26 11:37:07.589171 UTC</td>\n",
       "    </tr>\n",
       "    <tr>\n",
       "      <th>2</th>\n",
       "      <td>68766cdf-555e-4dd3-a5cf-5e28d6f53a50</td>\n",
       "      <td>98005788-822e-4c00-a1bc-2bc10a4072a1</td>\n",
       "      <td>491576dd-e130-4330-af15-6252a30f0b3e</td>\n",
       "      <td>FAILED</td>\n",
       "      <td>CARD_TOP_UP</td>\n",
       "      <td>500.0</td>\n",
       "      <td>EUR</td>\n",
       "      <td>IN</td>\n",
       "      <td>2024-08-26 12:17:30.725341 UTC</td>\n",
       "      <td>2024-08-26 12:17:27.940281 UTC</td>\n",
       "    </tr>\n",
       "    <tr>\n",
       "      <th>3</th>\n",
       "      <td>f72eb354-1dd8-4570-8b75-54716fcd9050</td>\n",
       "      <td>9fdc0519-db17-45fc-b86b-6a740fbd42b4</td>\n",
       "      <td>d43eb4ce-1533-426f-852c-df0f43958922</td>\n",
       "      <td>FAILED</td>\n",
       "      <td>CARD_TOP_UP</td>\n",
       "      <td>500.0</td>\n",
       "      <td>EUR</td>\n",
       "      <td>IN</td>\n",
       "      <td>2024-08-26 09:05:37.213234 UTC</td>\n",
       "      <td>2024-08-26 09:05:33.016947 UTC</td>\n",
       "    </tr>\n",
       "    <tr>\n",
       "      <th>4</th>\n",
       "      <td>8977cd2a-f971-43ef-87fd-e7006e501845</td>\n",
       "      <td>30f7fe83-31c3-430c-a8ba-66cbe26811f9</td>\n",
       "      <td>d43eb4ce-1533-426f-852c-df0f43958922</td>\n",
       "      <td>FAILED</td>\n",
       "      <td>CARD_TOP_UP</td>\n",
       "      <td>500.0</td>\n",
       "      <td>EUR</td>\n",
       "      <td>IN</td>\n",
       "      <td>2024-08-26 09:03:07.343472 UTC</td>\n",
       "      <td>2024-08-26 09:03:00.671257 UTC</td>\n",
       "    </tr>\n",
       "  </tbody>\n",
       "</table>\n",
       "</div>"
      ],
      "text/plain": [
       "                                     id              reference_transaction_id  \\\n",
       "0  a3c8bedb-312c-4155-a2f4-8883f58c03bc  568b3e92-9e58-4cd2-ad3b-28b8d8e7eb18   \n",
       "1  f1185255-0555-442a-9cad-eba75657a191  15ff6ae1-a71f-483a-985b-7c0c7a3c45cd   \n",
       "2  68766cdf-555e-4dd3-a5cf-5e28d6f53a50  98005788-822e-4c00-a1bc-2bc10a4072a1   \n",
       "3  f72eb354-1dd8-4570-8b75-54716fcd9050  9fdc0519-db17-45fc-b86b-6a740fbd42b4   \n",
       "4  8977cd2a-f971-43ef-87fd-e7006e501845  30f7fe83-31c3-430c-a8ba-66cbe26811f9   \n",
       "\n",
       "                                user_id   state         type  amount currency  \\\n",
       "0  0eb40954-c525-4fbe-b691-dcdd0fb65208  FAILED  CARD_TOP_UP    50.0      EUR   \n",
       "1  491576dd-e130-4330-af15-6252a30f0b3e  FAILED  CARD_TOP_UP   500.0      EUR   \n",
       "2  491576dd-e130-4330-af15-6252a30f0b3e  FAILED  CARD_TOP_UP   500.0      EUR   \n",
       "3  d43eb4ce-1533-426f-852c-df0f43958922  FAILED  CARD_TOP_UP   500.0      EUR   \n",
       "4  d43eb4ce-1533-426f-852c-df0f43958922  FAILED  CARD_TOP_UP   500.0      EUR   \n",
       "\n",
       "  direction                    completed_at                      created_at  \n",
       "0        IN  2024-08-25 22:42:42.423308 UTC  2024-08-25 22:42:38.977512 UTC  \n",
       "1        IN  2024-08-26 11:37:09.881278 UTC  2024-08-26 11:37:07.589171 UTC  \n",
       "2        IN  2024-08-26 12:17:30.725341 UTC  2024-08-26 12:17:27.940281 UTC  \n",
       "3        IN  2024-08-26 09:05:37.213234 UTC  2024-08-26 09:05:33.016947 UTC  \n",
       "4        IN  2024-08-26 09:03:07.343472 UTC  2024-08-26 09:03:00.671257 UTC  "
      ]
     },
     "execution_count": 39,
     "metadata": {},
     "output_type": "execute_result"
    }
   ],
   "source": [
    "unlabelled_transaction_df.head()"
   ]
  },
  {
   "cell_type": "code",
   "execution_count": 41,
   "id": "a0bb0ba6-3b66-4964-9bda-84a47cf6e063",
   "metadata": {},
   "outputs": [
    {
     "data": {
      "text/plain": [
       "category_id\n",
       "e464e1e2-40ca-416d-a541-ba0865e252f9    1510\n",
       "f8aaa857-9086-463e-b531-9aaca3a93745    1142\n",
       "b818b29c-cd13-4352-863d-f930de135c65     461\n",
       "8c6dc9fc-af02-4754-a312-25d7d05c091b     439\n",
       "06bee557-499a-4d75-bc66-155ea0489a19     387\n",
       "bd76ea84-00ec-4bf1-844c-855b39cc8a53     374\n",
       "e2b1df1c-c8d9-47f5-9937-2c40bf0bc514     359\n",
       "740898cf-e9d6-4ff0-ade8-5fe8cdd092c8     293\n",
       "b2ad0633-7bc7-40b9-8128-c483bf6f0c5b     292\n",
       "9db23aa5-a78a-4236-a992-48eb9aaf8ba1     235\n",
       "d4eb5429-7628-42ec-a838-2af8bd189eaa     180\n",
       "7090ce4d-fbd4-4a5f-93aa-32265cb49971      85\n",
       "70e184fc-471d-44a6-a7d3-5ca7fb89260a      50\n",
       "78ac2093-b680-463e-a4f5-2746f37d787e      49\n",
       "74724282-f4b2-4629-94b6-fcd7880ce7fe      47\n",
       "61ca224f-774d-450c-899a-147bcc1ddb33      36\n",
       "fc2a7dc9-3fab-47f5-b5f0-54641865d557       5\n",
       "d4f711bf-fb5d-45a4-aa30-a2c953b25352       1\n",
       "Name: count, dtype: int64"
      ]
     },
     "execution_count": 41,
     "metadata": {},
     "output_type": "execute_result"
    }
   ],
   "source": [
    "labelled_transaction_df.category_id.value_counts()"
   ]
  },
  {
   "cell_type": "code",
   "execution_count": 44,
   "id": "f08017f0-fa3f-4e52-8601-de441253d9fa",
   "metadata": {},
   "outputs": [
    {
     "name": "stdout",
     "output_type": "stream",
     "text": [
      "Common elements: ['user_id']\n"
     ]
    }
   ],
   "source": [
    "user_info = labelled_user_info_df.columns.to_list()\n",
    "transaction_info = labelled_transaction_df.columns.to_list()\n",
    "\n",
    "def find_common_elements(list1, list2):\n",
    "    # Convert lists to sets and find the intersection (common elements)\n",
    "    common_elements = set(list1).intersection(set(list2))\n",
    "    \n",
    "    # Convert the set back to a list if needed\n",
    "    return list(common_elements)\n",
    "\n",
    "common = find_common_elements(user_info, transaction_info)\n",
    "print(\"Common elements:\", common)\n"
   ]
  },
  {
   "cell_type": "code",
   "execution_count": 48,
   "id": "bbf27d23-6ef5-42b2-a33a-5a1c4388a6f0",
   "metadata": {},
   "outputs": [
    {
     "name": "stdout",
     "output_type": "stream",
     "text": [
      "Number of intersecting users: 283\n"
     ]
    }
   ],
   "source": [
    "def count_intersecting_users(df1, df2, user_id_column):\n",
    "    # Convert 'user_id' columns from both DataFrames to sets\n",
    "    set1 = set(df1[user_id_column])\n",
    "    set2 = set(df2[user_id_column])\n",
    "    \n",
    "    # Find the intersection of the two sets\n",
    "    common_users = set1.intersection(set2)\n",
    "    \n",
    "    # Return the number of intersecting users\n",
    "    return len(common_users)\n",
    "\n",
    "\n",
    "intersection_count = count_intersecting_users(labelled_user_info_df, labelled_transaction_df, 'user_id')\n",
    "\n",
    "print(f\"Number of intersecting users: {intersection_count}\")\n"
   ]
  },
  {
   "cell_type": "code",
   "execution_count": 49,
   "id": "cc9984a5-ae53-4fda-a7de-ca1ac04c93c7",
   "metadata": {},
   "outputs": [
    {
     "data": {
      "text/html": [
       "<div>\n",
       "<style scoped>\n",
       "    .dataframe tbody tr th:only-of-type {\n",
       "        vertical-align: middle;\n",
       "    }\n",
       "\n",
       "    .dataframe tbody tr th {\n",
       "        vertical-align: top;\n",
       "    }\n",
       "\n",
       "    .dataframe thead th {\n",
       "        text-align: right;\n",
       "    }\n",
       "</style>\n",
       "<table border=\"1\" class=\"dataframe\">\n",
       "  <thead>\n",
       "    <tr style=\"text-align: right;\">\n",
       "      <th></th>\n",
       "      <th>id</th>\n",
       "      <th>reference_transaction_id</th>\n",
       "      <th>user_id</th>\n",
       "      <th>state</th>\n",
       "      <th>type</th>\n",
       "      <th>category_id</th>\n",
       "      <th>amount</th>\n",
       "      <th>currency</th>\n",
       "      <th>direction</th>\n",
       "      <th>completed_at</th>\n",
       "      <th>created_at</th>\n",
       "    </tr>\n",
       "  </thead>\n",
       "  <tbody>\n",
       "    <tr>\n",
       "      <th>0</th>\n",
       "      <td>f72eb354-1dd8-4570-8b75-54716fcd9050</td>\n",
       "      <td>9fdc0519-db17-45fc-b86b-6a740fbd42b4</td>\n",
       "      <td>d43eb4ce-1533-426f-852c-df0f43958922</td>\n",
       "      <td>FAILED</td>\n",
       "      <td>CARD_TOP_UP</td>\n",
       "      <td>bd76ea84-00ec-4bf1-844c-855b39cc8a53</td>\n",
       "      <td>500.00</td>\n",
       "      <td>EUR</td>\n",
       "      <td>IN</td>\n",
       "      <td>2024-08-26 09:05:37.213234 UTC</td>\n",
       "      <td>2024-08-26 09:05:33.016947 UTC</td>\n",
       "    </tr>\n",
       "    <tr>\n",
       "      <th>1</th>\n",
       "      <td>8977cd2a-f971-43ef-87fd-e7006e501845</td>\n",
       "      <td>30f7fe83-31c3-430c-a8ba-66cbe26811f9</td>\n",
       "      <td>d43eb4ce-1533-426f-852c-df0f43958922</td>\n",
       "      <td>FAILED</td>\n",
       "      <td>CARD_TOP_UP</td>\n",
       "      <td>bd76ea84-00ec-4bf1-844c-855b39cc8a53</td>\n",
       "      <td>500.00</td>\n",
       "      <td>EUR</td>\n",
       "      <td>IN</td>\n",
       "      <td>2024-08-26 09:03:07.343472 UTC</td>\n",
       "      <td>2024-08-26 09:03:00.671257 UTC</td>\n",
       "    </tr>\n",
       "    <tr>\n",
       "      <th>2</th>\n",
       "      <td>b5c1a477-a784-4ab1-9af1-a055adb20a54</td>\n",
       "      <td>25dc15f1-41de-4101-8a6e-26d0a4940b86</td>\n",
       "      <td>d43eb4ce-1533-426f-852c-df0f43958922</td>\n",
       "      <td>PENDING</td>\n",
       "      <td>CARDS</td>\n",
       "      <td>61ca224f-774d-450c-899a-147bcc1ddb33</td>\n",
       "      <td>10.00</td>\n",
       "      <td>EUR</td>\n",
       "      <td>OUT</td>\n",
       "      <td>NaN</td>\n",
       "      <td>2024-08-25 14:40:47.603417 UTC</td>\n",
       "    </tr>\n",
       "    <tr>\n",
       "      <th>3</th>\n",
       "      <td>2f349fdd-e22f-43b0-a28f-08e7e1b3d8b2</td>\n",
       "      <td>56aafa31-209b-4cc4-afd9-43f20c2f9814</td>\n",
       "      <td>d43eb4ce-1533-426f-852c-df0f43958922</td>\n",
       "      <td>PENDING</td>\n",
       "      <td>CRYPTO_ON_RAMP</td>\n",
       "      <td>740898cf-e9d6-4ff0-ade8-5fe8cdd092c8</td>\n",
       "      <td>900.00</td>\n",
       "      <td>EUR</td>\n",
       "      <td>OUT</td>\n",
       "      <td>NaN</td>\n",
       "      <td>2024-08-26 09:08:10.130901 UTC</td>\n",
       "    </tr>\n",
       "    <tr>\n",
       "      <th>4</th>\n",
       "      <td>4652f777-cd5e-42d1-9c2c-d77fc3138f94</td>\n",
       "      <td>ccc65c16-29a3-4e01-a3d3-e3e5c0f5a94d</td>\n",
       "      <td>d43eb4ce-1533-426f-852c-df0f43958922</td>\n",
       "      <td>PENDING</td>\n",
       "      <td>CARDS</td>\n",
       "      <td>74724282-f4b2-4629-94b6-fcd7880ce7fe</td>\n",
       "      <td>16.45</td>\n",
       "      <td>EUR</td>\n",
       "      <td>OUT</td>\n",
       "      <td>NaN</td>\n",
       "      <td>2024-08-25 14:23:13.301453 UTC</td>\n",
       "    </tr>\n",
       "  </tbody>\n",
       "</table>\n",
       "</div>"
      ],
      "text/plain": [
       "                                     id              reference_transaction_id  \\\n",
       "0  f72eb354-1dd8-4570-8b75-54716fcd9050  9fdc0519-db17-45fc-b86b-6a740fbd42b4   \n",
       "1  8977cd2a-f971-43ef-87fd-e7006e501845  30f7fe83-31c3-430c-a8ba-66cbe26811f9   \n",
       "2  b5c1a477-a784-4ab1-9af1-a055adb20a54  25dc15f1-41de-4101-8a6e-26d0a4940b86   \n",
       "3  2f349fdd-e22f-43b0-a28f-08e7e1b3d8b2  56aafa31-209b-4cc4-afd9-43f20c2f9814   \n",
       "4  4652f777-cd5e-42d1-9c2c-d77fc3138f94  ccc65c16-29a3-4e01-a3d3-e3e5c0f5a94d   \n",
       "\n",
       "                                user_id    state            type  \\\n",
       "0  d43eb4ce-1533-426f-852c-df0f43958922   FAILED     CARD_TOP_UP   \n",
       "1  d43eb4ce-1533-426f-852c-df0f43958922   FAILED     CARD_TOP_UP   \n",
       "2  d43eb4ce-1533-426f-852c-df0f43958922  PENDING           CARDS   \n",
       "3  d43eb4ce-1533-426f-852c-df0f43958922  PENDING  CRYPTO_ON_RAMP   \n",
       "4  d43eb4ce-1533-426f-852c-df0f43958922  PENDING           CARDS   \n",
       "\n",
       "                            category_id  amount currency direction  \\\n",
       "0  bd76ea84-00ec-4bf1-844c-855b39cc8a53  500.00      EUR        IN   \n",
       "1  bd76ea84-00ec-4bf1-844c-855b39cc8a53  500.00      EUR        IN   \n",
       "2  61ca224f-774d-450c-899a-147bcc1ddb33   10.00      EUR       OUT   \n",
       "3  740898cf-e9d6-4ff0-ade8-5fe8cdd092c8  900.00      EUR       OUT   \n",
       "4  74724282-f4b2-4629-94b6-fcd7880ce7fe   16.45      EUR       OUT   \n",
       "\n",
       "                     completed_at                      created_at  \n",
       "0  2024-08-26 09:05:37.213234 UTC  2024-08-26 09:05:33.016947 UTC  \n",
       "1  2024-08-26 09:03:07.343472 UTC  2024-08-26 09:03:00.671257 UTC  \n",
       "2                             NaN  2024-08-25 14:40:47.603417 UTC  \n",
       "3                             NaN  2024-08-26 09:08:10.130901 UTC  \n",
       "4                             NaN  2024-08-25 14:23:13.301453 UTC  "
      ]
     },
     "execution_count": 49,
     "metadata": {},
     "output_type": "execute_result"
    }
   ],
   "source": [
    "labelled_transaction_df.head()"
   ]
  },
  {
   "cell_type": "code",
   "execution_count": 50,
   "id": "721184ad-4216-4f78-8e43-b54066d4ca69",
   "metadata": {},
   "outputs": [
    {
     "data": {
      "text/plain": [
       "((5945, 11), 4315, 4313)"
      ]
     },
     "execution_count": 50,
     "metadata": {},
     "output_type": "execute_result"
    }
   ],
   "source": [
    "labelled_transaction_df.shape, labelled_transaction_df.id.nunique(), labelled_transaction_df.reference_transaction_id.nunique() "
   ]
  },
  {
   "cell_type": "code",
   "execution_count": 51,
   "id": "f4fc44ae-17f0-4365-9d15-c9a329db836c",
   "metadata": {},
   "outputs": [
    {
     "data": {
      "text/plain": [
       "state\n",
       "COMPLETED    3372\n",
       "PENDING      1499\n",
       "DECLINED      679\n",
       "FAILED        325\n",
       "REVERSED       55\n",
       "CANCELLED      15\n",
       "Name: count, dtype: int64"
      ]
     },
     "execution_count": 51,
     "metadata": {},
     "output_type": "execute_result"
    }
   ],
   "source": [
    "labelled_transaction_df.state.value_counts()"
   ]
  },
  {
   "cell_type": "code",
   "execution_count": 53,
   "id": "e54d23b3-9fe1-4a26-86f2-2fc6bac89c4f",
   "metadata": {},
   "outputs": [
    {
     "data": {
      "text/plain": [
       "type\n",
       "CARDS              3593\n",
       "BANK_TRANSFER      1242\n",
       "CARD_TOP_UP         378\n",
       "PROCESSING_FEE      243\n",
       "CRYPTO_ON_RAMP      208\n",
       "PAYMENTS            145\n",
       "CRYPTO_OFF_RAMP      83\n",
       "USER_REWARD          42\n",
       "MANUAL               11\n",
       "Name: count, dtype: int64"
      ]
     },
     "execution_count": 53,
     "metadata": {},
     "output_type": "execute_result"
    }
   ],
   "source": [
    "labelled_transaction_df.type.value_counts()"
   ]
  },
  {
   "cell_type": "code",
   "execution_count": 55,
   "id": "a1b706c1-8b84-4e24-b261-5258258c3ca9",
   "metadata": {},
   "outputs": [
    {
     "data": {
      "text/plain": [
       "currency\n",
       "EUR    9849\n",
       "Name: count, dtype: int64"
      ]
     },
     "execution_count": 55,
     "metadata": {},
     "output_type": "execute_result"
    }
   ],
   "source": [
    "labelled_transaction_df.currency.value_counts()"
   ]
  },
  {
   "cell_type": "code",
   "execution_count": 56,
   "id": "e934af3d-ebb4-4b65-a314-2b6af37e1077",
   "metadata": {},
   "outputs": [
    {
     "data": {
      "text/plain": [
       "direction\n",
       "OUT    4568\n",
       "IN     1377\n",
       "Name: count, dtype: int64"
      ]
     },
     "execution_count": 56,
     "metadata": {},
     "output_type": "execute_result"
    }
   ],
   "source": [
    "labelled_transaction_df.direction.value_counts()"
   ]
  },
  {
   "cell_type": "code",
   "execution_count": 57,
   "id": "e4a9fbba-cb59-4819-bb43-0c23735ba5f8",
   "metadata": {},
   "outputs": [
    {
     "name": "stdout",
     "output_type": "stream",
     "text": [
      "Number of NaN records: {'created_at': 0, 'completed_at': 1499}\n"
     ]
    }
   ],
   "source": [
    "def count_nan_in_columns(df, col1, col2):\n",
    "    # Count NaN values in each column separately\n",
    "    nan_col1 = df[col1].isna().sum()\n",
    "    nan_col2 = df[col2].isna().sum()\n",
    "    \n",
    "    # Return a dictionary with the counts for both columns\n",
    "    return {col1: nan_col1, col2: nan_col2}\n",
    "\n",
    "# Usage\n",
    "nan_counts = count_nan_in_columns(labelled_transaction_df, 'created_at', 'completed_at')\n",
    "\n",
    "print(f\"Number of NaN records: {nan_counts}\")\n"
   ]
  },
  {
   "cell_type": "code",
   "execution_count": 58,
   "id": "5a6c6ab4-9735-4440-919b-b58c2fe1ae24",
   "metadata": {},
   "outputs": [
    {
     "data": {
      "text/html": [
       "<div>\n",
       "<style scoped>\n",
       "    .dataframe tbody tr th:only-of-type {\n",
       "        vertical-align: middle;\n",
       "    }\n",
       "\n",
       "    .dataframe tbody tr th {\n",
       "        vertical-align: top;\n",
       "    }\n",
       "\n",
       "    .dataframe thead th {\n",
       "        text-align: right;\n",
       "    }\n",
       "</style>\n",
       "<table border=\"1\" class=\"dataframe\">\n",
       "  <thead>\n",
       "    <tr style=\"text-align: right;\">\n",
       "      <th></th>\n",
       "      <th>id</th>\n",
       "      <th>reference_transaction_id</th>\n",
       "      <th>user_id</th>\n",
       "      <th>state</th>\n",
       "      <th>type</th>\n",
       "      <th>category_id</th>\n",
       "      <th>amount</th>\n",
       "      <th>currency</th>\n",
       "      <th>direction</th>\n",
       "      <th>completed_at</th>\n",
       "      <th>created_at</th>\n",
       "      <th>process_time</th>\n",
       "    </tr>\n",
       "  </thead>\n",
       "  <tbody>\n",
       "    <tr>\n",
       "      <th>0</th>\n",
       "      <td>f72eb354-1dd8-4570-8b75-54716fcd9050</td>\n",
       "      <td>9fdc0519-db17-45fc-b86b-6a740fbd42b4</td>\n",
       "      <td>d43eb4ce-1533-426f-852c-df0f43958922</td>\n",
       "      <td>FAILED</td>\n",
       "      <td>CARD_TOP_UP</td>\n",
       "      <td>bd76ea84-00ec-4bf1-844c-855b39cc8a53</td>\n",
       "      <td>500.00</td>\n",
       "      <td>EUR</td>\n",
       "      <td>IN</td>\n",
       "      <td>2024-08-26 09:05:37.213234+00:00</td>\n",
       "      <td>2024-08-26 09:05:33.016947+00:00</td>\n",
       "      <td>4.196287</td>\n",
       "    </tr>\n",
       "    <tr>\n",
       "      <th>1</th>\n",
       "      <td>8977cd2a-f971-43ef-87fd-e7006e501845</td>\n",
       "      <td>30f7fe83-31c3-430c-a8ba-66cbe26811f9</td>\n",
       "      <td>d43eb4ce-1533-426f-852c-df0f43958922</td>\n",
       "      <td>FAILED</td>\n",
       "      <td>CARD_TOP_UP</td>\n",
       "      <td>bd76ea84-00ec-4bf1-844c-855b39cc8a53</td>\n",
       "      <td>500.00</td>\n",
       "      <td>EUR</td>\n",
       "      <td>IN</td>\n",
       "      <td>2024-08-26 09:03:07.343472+00:00</td>\n",
       "      <td>2024-08-26 09:03:00.671257+00:00</td>\n",
       "      <td>6.672215</td>\n",
       "    </tr>\n",
       "    <tr>\n",
       "      <th>2</th>\n",
       "      <td>b5c1a477-a784-4ab1-9af1-a055adb20a54</td>\n",
       "      <td>25dc15f1-41de-4101-8a6e-26d0a4940b86</td>\n",
       "      <td>d43eb4ce-1533-426f-852c-df0f43958922</td>\n",
       "      <td>PENDING</td>\n",
       "      <td>CARDS</td>\n",
       "      <td>61ca224f-774d-450c-899a-147bcc1ddb33</td>\n",
       "      <td>10.00</td>\n",
       "      <td>EUR</td>\n",
       "      <td>OUT</td>\n",
       "      <td>NaT</td>\n",
       "      <td>2024-08-25 14:40:47.603417+00:00</td>\n",
       "      <td>0.000000</td>\n",
       "    </tr>\n",
       "    <tr>\n",
       "      <th>3</th>\n",
       "      <td>2f349fdd-e22f-43b0-a28f-08e7e1b3d8b2</td>\n",
       "      <td>56aafa31-209b-4cc4-afd9-43f20c2f9814</td>\n",
       "      <td>d43eb4ce-1533-426f-852c-df0f43958922</td>\n",
       "      <td>PENDING</td>\n",
       "      <td>CRYPTO_ON_RAMP</td>\n",
       "      <td>740898cf-e9d6-4ff0-ade8-5fe8cdd092c8</td>\n",
       "      <td>900.00</td>\n",
       "      <td>EUR</td>\n",
       "      <td>OUT</td>\n",
       "      <td>NaT</td>\n",
       "      <td>2024-08-26 09:08:10.130901+00:00</td>\n",
       "      <td>0.000000</td>\n",
       "    </tr>\n",
       "    <tr>\n",
       "      <th>4</th>\n",
       "      <td>4652f777-cd5e-42d1-9c2c-d77fc3138f94</td>\n",
       "      <td>ccc65c16-29a3-4e01-a3d3-e3e5c0f5a94d</td>\n",
       "      <td>d43eb4ce-1533-426f-852c-df0f43958922</td>\n",
       "      <td>PENDING</td>\n",
       "      <td>CARDS</td>\n",
       "      <td>74724282-f4b2-4629-94b6-fcd7880ce7fe</td>\n",
       "      <td>16.45</td>\n",
       "      <td>EUR</td>\n",
       "      <td>OUT</td>\n",
       "      <td>NaT</td>\n",
       "      <td>2024-08-25 14:23:13.301453+00:00</td>\n",
       "      <td>0.000000</td>\n",
       "    </tr>\n",
       "  </tbody>\n",
       "</table>\n",
       "</div>"
      ],
      "text/plain": [
       "                                     id              reference_transaction_id  \\\n",
       "0  f72eb354-1dd8-4570-8b75-54716fcd9050  9fdc0519-db17-45fc-b86b-6a740fbd42b4   \n",
       "1  8977cd2a-f971-43ef-87fd-e7006e501845  30f7fe83-31c3-430c-a8ba-66cbe26811f9   \n",
       "2  b5c1a477-a784-4ab1-9af1-a055adb20a54  25dc15f1-41de-4101-8a6e-26d0a4940b86   \n",
       "3  2f349fdd-e22f-43b0-a28f-08e7e1b3d8b2  56aafa31-209b-4cc4-afd9-43f20c2f9814   \n",
       "4  4652f777-cd5e-42d1-9c2c-d77fc3138f94  ccc65c16-29a3-4e01-a3d3-e3e5c0f5a94d   \n",
       "\n",
       "                                user_id    state            type  \\\n",
       "0  d43eb4ce-1533-426f-852c-df0f43958922   FAILED     CARD_TOP_UP   \n",
       "1  d43eb4ce-1533-426f-852c-df0f43958922   FAILED     CARD_TOP_UP   \n",
       "2  d43eb4ce-1533-426f-852c-df0f43958922  PENDING           CARDS   \n",
       "3  d43eb4ce-1533-426f-852c-df0f43958922  PENDING  CRYPTO_ON_RAMP   \n",
       "4  d43eb4ce-1533-426f-852c-df0f43958922  PENDING           CARDS   \n",
       "\n",
       "                            category_id  amount currency direction  \\\n",
       "0  bd76ea84-00ec-4bf1-844c-855b39cc8a53  500.00      EUR        IN   \n",
       "1  bd76ea84-00ec-4bf1-844c-855b39cc8a53  500.00      EUR        IN   \n",
       "2  61ca224f-774d-450c-899a-147bcc1ddb33   10.00      EUR       OUT   \n",
       "3  740898cf-e9d6-4ff0-ade8-5fe8cdd092c8  900.00      EUR       OUT   \n",
       "4  74724282-f4b2-4629-94b6-fcd7880ce7fe   16.45      EUR       OUT   \n",
       "\n",
       "                      completed_at                       created_at  \\\n",
       "0 2024-08-26 09:05:37.213234+00:00 2024-08-26 09:05:33.016947+00:00   \n",
       "1 2024-08-26 09:03:07.343472+00:00 2024-08-26 09:03:00.671257+00:00   \n",
       "2                              NaT 2024-08-25 14:40:47.603417+00:00   \n",
       "3                              NaT 2024-08-26 09:08:10.130901+00:00   \n",
       "4                              NaT 2024-08-25 14:23:13.301453+00:00   \n",
       "\n",
       "   process_time  \n",
       "0      4.196287  \n",
       "1      6.672215  \n",
       "2      0.000000  \n",
       "3      0.000000  \n",
       "4      0.000000  "
      ]
     },
     "execution_count": 58,
     "metadata": {},
     "output_type": "execute_result"
    }
   ],
   "source": [
    "# Fucntion to calculate process time\n",
    "def calculate_process_time(df, start_column, end_column):\n",
    "    # Replace NaN values with 0 for both start and end times\n",
    "    df[start_column] = pd.to_datetime(df[start_column], errors='coerce')  # Ensure it's a datetime\n",
    "    df[end_column] = pd.to_datetime(df[end_column], errors='coerce')      # Ensure it's a datetime\n",
    "    \n",
    "    # Calculate the process time, set to 0 where either start or end is NaN\n",
    "    df['process_time'] = (df[end_column] - df[start_column]).dt.total_seconds()\n",
    "    \n",
    "    # Where start or end time is NaN, set process_time to 0\n",
    "    df['process_time'] = df['process_time'].fillna(0)\n",
    "    \n",
    "    return df\n",
    "\n",
    "# Usage\n",
    "labelled_transaction_df = calculate_process_time(labelled_transaction_df, 'created_at', 'completed_at')\n",
    "\n",
    "# Display the DataFrame with the calculated process times\n",
    "labelled_transaction_df.head()\n"
   ]
  },
  {
   "cell_type": "code",
   "execution_count": 61,
   "id": "c959f890-ec83-4f95-b356-5b9fbeb6645d",
   "metadata": {},
   "outputs": [
    {
     "data": {
      "image/png": "[encoded data removed]",
      "text/plain": [
       "<Figure size 1000x600 with 1 Axes>"
      ]
     },
     "metadata": {},
     "output_type": "display_data"
    }
   ],
   "source": [
    "import matplotlib.pyplot as plt\n",
    "\n",
    "# Plot the process times\n",
    "def plot_process_times(df, process_time_column):\n",
    "    # Create a bar plot\n",
    "    plt.figure(figsize=(10, 6))\n",
    "    plt.bar(df.index, df[process_time_column], color='green', alpha=0.6)\n",
    "    \n",
    "    # Add labels and title\n",
    "    plt.xlabel('Transaction Index', fontsize=12)\n",
    "    plt.ylabel('Process Time (Seconds)', fontsize=12)\n",
    "    plt.title('Process Time per Transaction', fontsize=14)\n",
    "    \n",
    "    # Show grid\n",
    "    plt.grid(True, linestyle='--', alpha=0.6)\n",
    "    \n",
    "    # Show plot\n",
    "    plt.tight_layout()\n",
    "    plt.show()\n",
    "\n",
    "\n",
    "# Example usage of the plotting function\n",
    "plot_process_times(labelled_transaction_df, 'process_time')\n"
   ]
  },
  {
   "cell_type": "code",
   "execution_count": 62,
   "id": "eb7af6ea-b5be-4dac-a663-d2740aecd556",
   "metadata": {},
   "outputs": [
    {
     "data": {
      "image/png": "[encoded data removed]",
      "text/plain": [
       "<Figure size 1000x600 with 1 Axes>"
      ]
     },
     "metadata": {},
     "output_type": "display_data"
    }
   ],
   "source": [
    "\n",
    "# Function to plot process times with bins (histogram)\n",
    "def plot_process_time_histogram(df, process_time_column):\n",
    "    plt.figure(figsize=(10, 6))\n",
    "    \n",
    "    # Plot a histogram with automatic binning\n",
    "    plt.hist(df[process_time_column], bins='auto', color='purple', alpha=0.7)\n",
    "    \n",
    "    # Add labels and title\n",
    "    plt.xlabel('Process Time (Seconds)', fontsize=12)\n",
    "    plt.ylabel('Frequency', fontsize=12)\n",
    "    plt.title('Histogram of Process Times', fontsize=14)\n",
    "    \n",
    "    # Show grid\n",
    "    plt.grid(True, linestyle='--', alpha=0.6)\n",
    "    \n",
    "    # Show plot\n",
    "    plt.tight_layout()\n",
    "    plt.show()\n",
    "\n",
    "# Assuming df is your DataFrame and 'process_time' is the column with process times\n",
    "plot_process_time_histogram(labelled_transaction_df, 'process_time')\n"
   ]
  },
  {
   "cell_type": "code",
   "execution_count": 63,
   "id": "138b97a4-5622-422c-93d0-690d85616993",
   "metadata": {},
   "outputs": [
    {
     "data": {
      "text/plain": [
       "Index(['id', 'reference_transaction_id', 'user_id', 'state', 'type',\n",
       "       'category_id', 'amount', 'currency', 'direction', 'completed_at',\n",
       "       'created_at', 'process_time'],\n",
       "      dtype='object')"
      ]
     },
     "execution_count": 63,
     "metadata": {},
     "output_type": "execute_result"
    }
   ],
   "source": [
    "labelled_transaction_df.columns"
   ]
  },
  {
   "cell_type": "code",
   "execution_count": 65,
   "id": "ecaac1fb-5549-4356-adc5-363e4f586f59",
   "metadata": {},
   "outputs": [
    {
     "data": {
      "text/plain": [
       "Index(['user_id', 'session_id', 'country_of_residence', 'has_biometrics',\n",
       "       'phone_number_country_code', 'reason_to_use_app', 'occupation',\n",
       "       'kyc_state', 'gender', 'date_of_birth', 'document_issuing_country',\n",
       "       'locale', 'screening_state', 'is_adverse_media_minor', 'is_pep',\n",
       "       'user_current_state'],\n",
       "      dtype='object')"
      ]
     },
     "execution_count": 65,
     "metadata": {},
     "output_type": "execute_result"
    }
   ],
   "source": [
    "labelled_user_info_df.columns"
   ]
  },
  {
   "cell_type": "code",
   "execution_count": 68,
   "id": "20462f3f-3ae7-48f2-9ae0-91a6a574410e",
   "metadata": {},
   "outputs": [],
   "source": [
    "labelled_user_list = cleaned_user_info_df.user_id.to_list()\n",
    "unlabelled_user_list = unlabelled_user_info_df.user_id.to_list()"
   ]
  },
  {
   "cell_type": "code",
   "execution_count": 69,
   "id": "a0e57d29-7a15-47b1-abe6-0ce4667b08f1",
   "metadata": {},
   "outputs": [
    {
     "name": "stdout",
     "output_type": "stream",
     "text": [
      "Intersection: []\n"
     ]
    }
   ],
   "source": [
    "# Intersection of two lists using set\n",
    "intersection = list(set(labelled_user_list) & set(unlabelled_user_list))\n",
    "\n",
    "print(\"Intersection:\", intersection)"
   ]
  },
  {
   "cell_type": "code",
   "execution_count": 75,
   "id": "ea8368b3-e58a-46e2-8a66-bc25ee600bcd",
   "metadata": {},
   "outputs": [],
   "source": [
    "labelled_trans_list = labelled_transaction_df.id.to_list()\n",
    "unlabelled_trans_list = unlabelled_transaction_df.id.to_list()\n",
    "labelled_trans_list2 = labelled_transaction_df.reference_transaction_id.to_list()\n",
    "unlabelled_trans_list2 = unlabelled_transaction_df.reference_transaction_id.to_list()"
   ]
  },
  {
   "cell_type": "code",
   "execution_count": 74,
   "id": "a463c8da-b074-4f9f-818b-5802efb71e1f",
   "metadata": {},
   "outputs": [
    {
     "name": "stdout",
     "output_type": "stream",
     "text": [
      "Intersection: 1562\n"
     ]
    }
   ],
   "source": [
    "# Intersection of two lists using set\n",
    "intersection2 = list(set(labelled_trans_list) & set(unlabelled_trans_list))\n",
    "\n",
    "print(\"Intersection:\", len(intersection2))"
   ]
  },
  {
   "cell_type": "code",
   "execution_count": 76,
   "id": "24cc2925-1f18-46e6-95ec-b2174d0ac7d2",
   "metadata": {},
   "outputs": [
    {
     "name": "stdout",
     "output_type": "stream",
     "text": [
      "Intersection: 1562\n"
     ]
    }
   ],
   "source": [
    "# Intersection of two lists using set\n",
    "intersection3 = list(set(labelled_trans_list2) & set(unlabelled_trans_list2))\n",
    "\n",
    "print(\"Intersection:\", len(intersection3))"
   ]
  },
  {
   "cell_type": "code",
   "execution_count": 79,
   "id": "5b562d9b-42a8-42b6-8259-a89ddd7f9359",
   "metadata": {},
   "outputs": [
    {
     "name": "stdout",
     "output_type": "stream",
     "text": [
      "Elements in list2 but not in list1: 5190\n"
     ]
    }
   ],
   "source": [
    "# Elements in list1 but not in list2\n",
    "difference1 = list(set(unlabelled_trans_list) - set(labelled_trans_list))\n",
    "\n",
    "print(\"Elements in list2 but not in list1:\", len(difference1))"
   ]
  },
  {
   "cell_type": "code",
   "execution_count": 80,
   "id": "31313464-9d5a-4e7b-97d0-49bfdfbd5c81",
   "metadata": {},
   "outputs": [
    {
     "name": "stdout",
     "output_type": "stream",
     "text": [
      "Elements in list2 but not in list1: 5189\n"
     ]
    }
   ],
   "source": [
    "# Elements in list1 but not in list2\n",
    "difference1 = list(set(unlabelled_trans_list2) - set(labelled_trans_list2))\n",
    "\n",
    "print(\"Elements in list2 but not in list1:\", len(difference1))"
   ]
  },
  {
   "cell_type": "code",
   "execution_count": 82,
   "id": "de06be7e-02f0-4577-9afa-d2ab620d0720",
   "metadata": {},
   "outputs": [
    {
     "data": {
      "text/plain": [
       "(9849, 10)"
      ]
     },
     "execution_count": 82,
     "metadata": {},
     "output_type": "execute_result"
    }
   ],
   "source": [
    "unlabelled_transaction_df.shape"
   ]
  },
  {
   "cell_type": "code",
   "execution_count": null,
   "id": "64ba4ff0-5a6f-4a79-9355-26a4fbf305d3",
   "metadata": {},
   "outputs": [],
   "source": []
  }
 ],
 "metadata": {
  "kernelspec": {
   "display_name": "Python 3 (ipykernel)",
   "language": "python",
   "name": "python3"
  },
  "language_info": {
   "codemirror_mode": {
    "name": "ipython",
    "version": 3
   },
   "file_extension": ".py",
   "mimetype": "text/x-python",
   "name": "python",
   "nbconvert_exporter": "python",
   "pygments_lexer": "ipython3",
   "version": "3.12.5"
  }
 },
 "nbformat": 4,
 "nbformat_minor": 5
}
